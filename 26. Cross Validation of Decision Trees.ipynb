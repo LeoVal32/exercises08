{
 "cells": [
  {
   "cell_type": "markdown",
   "metadata": {},
   "source": [
    "![Astrofisica Computacional](../logo.PNG)"
   ]
  },
  {
   "cell_type": "markdown",
   "metadata": {
    "id": "5soGuirloNgq"
   },
   "source": [
    "---\n",
    "## 25. Validación cruzada del Árbol de Decisión \n",
    "\n",
    "Eduard Larrañaga (ealarranaga@unal.edu.co)\n",
    "\n",
    "---"
   ]
  },
  {
   "cell_type": "markdown",
   "metadata": {
    "id": "Ff4KTapaoNgx"
   },
   "source": [
    "### Resumen\n",
    "\n",
    "En este cuaderno se introducirá el método de validación cruzada de los árboles de decisión.\n",
    "\n",
    "---"
   ]
  },
  {
   "cell_type": "markdown",
   "metadata": {
    "id": "Y85Y_aIb8meo"
   },
   "source": [
    "Hasta este momento, se ha utilizado la mediana de los residuos para medir la precisión de la predicción. Este método básico, en el que se divide el conjunto de datos en subconjuntos de entrenamiento y prueba, es llamado **hold-out validation** (validación de retención) y el resultado de la precisión dependerá de como se dividen los subconjuntos.\n",
    "\n",
    "Ahora, se introducirá un mejor método de validación denominado **k-fold cross-validation** (validación cruzada de k-combinaciones). Este es similar a la validación hold-out, excepto porque los datos originales se dividiran en k-subconjuntos y se entrenara el modelo k-veces, utilizando diferentes combinaciones de los subconjuntos y registrando la precisión en cada ocasión (i.e. se realizará una validación hold-out en k-ocasiones). \n",
    "\n",
    "En la práctica, en cada ocasión se utiliza una combinación diferente de k-1 subconjuntos para entrenar el modelo y el subconjunto restante se utiliza para la prueba del modelo. Luego, se toma el promedio de las precisiones de las k-mediciones para obtener la precisión global del modelo.\n",
    "\n",
    "De nuevo utilizaremos el conjunto de datos fotométricos de galaxias, pero en esta ocasión introduciremos un aspecto adicional al estimar la precisión cuando el modelo se aplica a Quasi-Stellar Objects (QSOs) comparado con otras galaxias. Como es bien conocido, los QSOs son galaxias que poseen un núcleo activo (AGN), que hacen que la galxia sea más brillante y poor lo tanto, detectable con los instrumentos del SDSS con corrimientos al rojo mas altos. "
   ]
  },
  {
   "cell_type": "markdown",
   "metadata": {
    "id": "cn0RkhCyHfEO"
   },
   "source": [
    "### Cargando los Datos\n",
    "\n",
    "Igual que antes, se utiliza el archivo `'sdss_galaxy_colors.npy`. \n"
   ]
  },
  {
   "cell_type": "code",
   "execution_count": null,
   "metadata": {
    "colab": {
     "base_uri": "https://localhost:8080/"
    },
    "executionInfo": {
     "elapsed": 446,
     "status": "ok",
     "timestamp": 1612141751866,
     "user": {
      "displayName": "Eduard Alexis Larranaga",
      "photoUrl": "https://lh3.googleusercontent.com/a-/AOh14GgCVABzEgj-rCdyxWa29RnA0kIYUCXAaVbnRYOEhQ=s64",
      "userId": "04402438389940282602"
     },
     "user_tz": 300
    },
    "id": "t00prl26IXxz",
    "outputId": "e0aa12a1-69a1-4b24-b329-457e4bdc358e"
   },
   "outputs": [
    {
     "data": {
      "text/plain": [
       "array([(19.84132, 19.52656, 19.46946, 19.17955, 19.10763, b'QSO', 0.539301  , 6.543622e-05),\n",
       "       (19.86318, 18.66298, 17.84272, 17.38978, 17.14313, b'GALAXY', 0.1645703 , 1.186625e-05),\n",
       "       (19.97362, 18.31421, 17.47922, 17.0744 , 16.76174, b'GALAXY', 0.04190006, 2.183788e-05),\n",
       "       ...,\n",
       "       (19.82667, 18.10038, 17.16133, 16.5796 , 16.19755, b'GALAXY', 0.0784592 , 2.159406e-05),\n",
       "       (19.98672, 19.75385, 19.5713 , 19.27739, 19.25895, b'QSO', 1.567295  , 4.505933e-04),\n",
       "       (18.00024, 17.80957, 17.77302, 17.72663, 17.7264 , b'QSO', 0.4749449 , 6.203324e-05)],\n",
       "      dtype=[('u', '<f8'), ('g', '<f8'), ('r', '<f8'), ('i', '<f8'), ('z', '<f8'), ('spec_class', 'S6'), ('redshift', '<f8'), ('redshift_err', '<f8')])"
      ]
     },
     "execution_count": 7,
     "metadata": {
      "tags": []
     },
     "output_type": "execute_result"
    }
   ],
   "source": [
    "import numpy as np\n",
    "\n",
    "data = np.load('sdss_galaxy_colors.npy')\n",
    "data"
   ]
  },
  {
   "cell_type": "markdown",
   "metadata": {
    "id": "C7pkVeizIyj5"
   },
   "source": [
    "Las características contenidas en el archivo son\n",
    "\n",
    "| dtype | Feature|\n",
    "|:-:|:-:|\n",
    "|`u` |u band filter|\n",
    "|`g` |g band filter|\n",
    "|`r` |r band filter|\n",
    "|`i` |i band filter|\n",
    "|`z` |z band filter|\n",
    "|`spec_class` |spectral class|\n",
    "|`redshift` |redshift|\n",
    "|`redshift_err` |redshift error|\n"
   ]
  },
  {
   "cell_type": "markdown",
   "metadata": {
    "id": "ca9ZEeaNK8Vh"
   },
   "source": [
    "El número de muestras (galaxias) en el archivo es"
   ]
  },
  {
   "cell_type": "code",
   "execution_count": null,
   "metadata": {
    "colab": {
     "base_uri": "https://localhost:8080/"
    },
    "executionInfo": {
     "elapsed": 536,
     "status": "ok",
     "timestamp": 1612142762690,
     "user": {
      "displayName": "Eduard Alexis Larranaga",
      "photoUrl": "https://lh3.googleusercontent.com/a-/AOh14GgCVABzEgj-rCdyxWa29RnA0kIYUCXAaVbnRYOEhQ=s64",
      "userId": "04402438389940282602"
     },
     "user_tz": 300
    },
    "id": "8JHyXtPlK6Hs",
    "outputId": "12892e14-8457-4cd4-d2a9-4befaa94a8c6"
   },
   "outputs": [
    {
     "data": {
      "text/plain": [
       "50000"
      ]
     },
     "execution_count": 16,
     "metadata": {
      "tags": []
     },
     "output_type": "execute_result"
    }
   ],
   "source": [
    "n = data.size\n",
    "n"
   ]
  },
  {
   "cell_type": "markdown",
   "metadata": {
    "id": "geu4TFRioNgx"
   },
   "source": [
    "El primer paso es definir los conjuntos de entrada 'features' (indices de color) y 'targets' (corrimiento al rojo)"
   ]
  },
  {
   "cell_type": "code",
   "execution_count": null,
   "metadata": {
    "id": "Q53oIok9eCgL"
   },
   "outputs": [],
   "source": [
    "# Function returning the 4 color indices and the redshifts\n",
    "\n",
    "features, targets = ...\n"
   ]
  },
  {
   "cell_type": "markdown",
   "metadata": {
    "id": "3DjjbFANBHcD"
   },
   "source": [
    "### K-Fold\n",
    "\n",
    "Para hacer la división del conjunto en los k-subconjuntos se utilizará la función [sklearn.model_selection.KFold](https://scikit-learn.org/stable/modules/generated/sklearn.model_selection.KFold.html). La división se realiza definiendo un objeto iterable mediante el comando\n",
    "\n",
    "```\n",
    "kf = KFold(n_splits=k, shuffle=True)\n",
    "```\n",
    "\n",
    "dodne el argumento `n_splits=k` especifica el número de subconjuntos que se utilizarán y el argumento  `shuffle` es puesto en Falso por defecto, pero es una buena práctica activarlo para que se eligan aleatoriamente los elementos de cada subconjunto (con ello se evita introducir una tendencia o parcialidad debido al orden en el que se presentan los datos dentro del archivo). \n",
    "\n",
    "Se utilizará la función `KFold` con un valor inicial de **k=5** y el árbol de decisión con una profundidad de   `max_depth=19` (de acuerdo con el resultado anterior para evitar el sobre-ajuste)."
   ]
  },
  {
   "cell_type": "code",
   "execution_count": null,
   "metadata": {
    "id": "JTULQCiYZ8U-"
   },
   "outputs": [],
   "source": [
    "from sklearn.tree import DecisionTreeRegressor\n",
    "from sklearn.model_selection import KFold\n",
    "\n",
    "kf = KFold(n_splits=5, shuffle=True)\n",
    "dec_tree = DecisionTreeRegressor(max_depth=19)\n"
   ]
  },
  {
   "cell_type": "markdown",
   "metadata": {
    "id": "NbnXoRPQzIwh"
   },
   "source": [
    "El método `.split()` se aplica al conjunto de características para generar los conjuntos de entrenamiento y prueba. Nótese que este método define solo el conjunto de índices correspondeintes a cada subconjunto, pero no el subconjunto como tal. Por esta razón, debemos tomar estos índices y definir los conjuntos adecuadamente para luego proceder a entrenar el modelo y evaluar su predicción mediante la mediana de los residuos.\n",
    "\n",
    "Este proceso completo debe repetirse para cada una de las k-iteraciones. Para ello implementamos un loop  `for`,\n",
    "\n"
   ]
  },
  {
   "cell_type": "code",
   "execution_count": null,
   "metadata": {
    "id": "X7bp37a9zJ_o"
   },
   "outputs": [],
   "source": [
    "# declare an array for predicted redshifts from each iteration\n",
    "all_predictions = np.zeros_like(targets)\n",
    "\n",
    "for train_indices, test_indices in kf.split(features):\n",
    "  train_features, test_features = features[train_indices], features[test_indices]\n",
    "  train_targets, test_targets = targets[train_indices], targets[test_indices]\n",
    "\n",
    "  # Train the decision tree\n",
    "  dec_tree.fit(train_features, train_targets)\n",
    "  \n",
    "  # Predict using the model\n",
    "  predictions = dec_tree.predict(test_features)\n",
    "\n",
    "  # put the predicted values in the all_predictions array defined above\n",
    "  all_predictions[test_indices] = predictions\n",
    "\n",
    "\n",
    "\n",
    "# Evaluate the model using the median of differences of all_predictions\n",
    "eval_dec_tree = ...  \n",
    "eval_dec_tree"
   ]
  },
  {
   "cell_type": "markdown",
   "metadata": {
    "id": "AVaTPF0fzdLH"
   },
   "source": [
    "Una vez que se entrena el modelo y se calculan las predicciones , se pueden compara gráficamente las predicciones y los datos 'target'\n"
   ]
  },
  {
   "cell_type": "code",
   "execution_count": null,
   "metadata": {
    "id": "DpJcoPtNzdme"
   },
   "outputs": [],
   "source": [
    "from matplotlib import pyplot as plt\n",
    "%matplotlib inline\n",
    "\n",
    "# plot the results to see how well our model looks\n",
    "plt.figure()\n",
    "plt.scatter(targets, all_predictions, s=0.4)\n",
    "plt.xlim((0, targets.max()))\n",
    "plt.ylim((0, predictions.max()))\n",
    "plt.xlabel('Measured Redshift')\n",
    "plt.ylabel('Predicted Redshift')\n",
    "plt.show()"
   ]
  },
  {
   "cell_type": "markdown",
   "metadata": {
    "id": "Vs0OIwEX7CcD"
   },
   "source": [
    "\n",
    "El resultado debe lucir como la siguiente figura:\n",
    "\n",
    "<center>\n",
    "<img src=\"https://groklearning-cdn.com/modules/SjroKib6Hs5Fqxq53Vxme9/predicted_v_measured.png\" width=450>\n",
    "</center>\n",
    "\n",
    "\n",
    "Nótese que en este gráfico de predicciones contra mediciones se observa un buen comportamiento para muchas galaxias, pero también exiten muchos puntos fuera de la tendencia (outliers)."
   ]
  },
  {
   "cell_type": "markdown",
   "metadata": {
    "id": "Hpk6m0AiAcui"
   },
   "source": [
    "---\n",
    "### Clase Espectral \n",
    "\n",
    "La característica 'spec_class' en el conjunto de datos involucra dos posibles valores b'GALAXY' y b'QSO', que identifican a las galaxias y a los Quasi-Stellar Objects (QSOs), respectivamente.\n",
    "\n",
    "**1. Defina una función que clasificque las muestras de acuerdo con el 'spec_class'.**\n",
    "\n",
    "**2. Cuantas galaxias y cuantos QSOs existen en el archivo?**\n"
   ]
  },
  {
   "cell_type": "markdown",
   "metadata": {
    "id": "jUa4TMPuAyqc"
   },
   "source": [
    "**3. Calcular la mediana de los residuos para galaxias y QSOs. Cuáles son los valores máximos de estas diferencias para los dos tipos de objetos?**\n",
    "\n",
    "\n",
    "Las galaxias no son tan brillantes como los QSOs y por ello son muy débiles para ser detectados por el SDSS si poseen un redshift superior a 0.4. Esto crea una parcialidad en las mediciones.\n",
    "\n",
    "**4. Realice un gráfico con la mediana de los residuos vs. Redshift medido para todos los objetos del conjunto y utilice un color para identificar galaxias y otro color para los QSOs.**\n"
   ]
  },
  {
   "cell_type": "markdown",
   "metadata": {
    "id": "FNehsBLLFWUH"
   },
   "source": [
    "**5. Realice unnuevo gráfico con las predicciones vs mediciones de corrimiento al rojo, identificando el tipo de objeto con colorse diferentes. El resultado debe ser similar a este:**\n",
    "\n",
    "<center>\n",
    "<img src=\"https://groklearning-cdn.com/modules/ovFSymwFkqBPAcjnbSUxLG/predicted_actual_qso.png\" width=450>\n",
    "</center>\n",
    "\n"
   ]
  },
  {
   "cell_type": "code",
   "execution_count": null,
   "metadata": {},
   "outputs": [],
   "source": []
  }
 ],
 "metadata": {
  "colab": {
   "collapsed_sections": [],
   "name": "03. Cross Validation of Decision Trees.ipynb",
   "provenance": []
  },
  "kernelspec": {
   "display_name": "Python 3 (ipykernel)",
   "language": "python",
   "name": "python3"
  },
  "language_info": {
   "codemirror_mode": {
    "name": "ipython",
    "version": 3
   },
   "file_extension": ".py",
   "mimetype": "text/x-python",
   "name": "python",
   "nbconvert_exporter": "python",
   "pygments_lexer": "ipython3",
   "version": "3.9.7"
  }
 },
 "nbformat": 4,
 "nbformat_minor": 1
}
