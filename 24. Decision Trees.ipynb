{
 "cells": [
  {
   "cell_type": "markdown",
   "metadata": {},
   "source": [
    "![Astrofisica Computacional](../logo.PNG)"
   ]
  },
  {
   "cell_type": "markdown",
   "metadata": {
    "id": "5soGuirloNgq"
   },
   "source": [
    "---\n",
    "## 24. Árboles de Decisión\n",
    "\n",
    "\n",
    "Eduard Larrañaga (ealarranaga@unal.edu.co)\n",
    "\n",
    "---"
   ]
  },
  {
   "cell_type": "markdown",
   "metadata": {
    "id": "Ff4KTapaoNgx"
   },
   "source": [
    "### Resumen\n",
    "\n",
    "En este cuaderno se presentarán los árboles de decisión como una herramienta para determinar el corrimiento al rojo de un conjunto de galaxias.\n",
    "\n",
    "---"
   ]
  },
  {
   "cell_type": "markdown",
   "metadata": {
    "id": "Y85Y_aIb8meo"
   },
   "source": [
    "## Los Árboles de Decisión\n",
    "\n",
    "A continuación utilizaremos los **árboles de decisión** desde la visión del machine learning, para determinar el redshift de una galaxia a partir de sus índices de color fotométricos. Para comenzar, describiremos como se reailzaría esta tarea clásicamente, para comprender las limitaciones de estos métodos y el por qué las herramientas de machine learning son ideales para este tipo de problemas.\n",
    "\n",
    "\n",
    "\n",
    "### El conjunto de datos\n",
    "\n",
    "El método usual para determinar el corrimiento al rojo de una galaxia distante implica la obtención de datos de las lineas de emisión (en visible) y la medición del desplazamiento en la longitud de onda de estas líneas. Sin embargo, este proceso suele implicar una graninversión de tiempo y no es eficiente para muestras grandes. Adicionalmente, para muchas de las galaxias conocidas no se han realizado observaciones espectroscópicas, por lo que este método no puede aplicarse.\n",
    "\n",
    "Por esta razón, se intentará un método alternativo para calcular el corrimiento al rojo en el cual utilizaremos las **magnitudes de flujo** en las 5 bandas (u, g, r, i and z) reportadas en el catalogo Sloan Digital Sky Survey (SDSS). En el siguiente diagrama pueden identificarse estas 5 bandas en términos de las longitudes de onda.\n",
    "\n",
    "<center>\n",
    "<img\n",
    "src=\"https://groklearning-cdn.com/modules/TYPnbyWbJVHGcaNudF4Nak/plot_sdss_filters_11.png\"\n",
    ">\n",
    "</center>\n",
    "\n"
   ]
  },
  {
   "cell_type": "markdown",
   "metadata": {
    "id": "cn0RkhCyHfEO"
   },
   "source": [
    "En este repositorio se proporciona una base de datos denominada 'sdss_galaxy_colors.npy', en el formato de arreglo estructurado de `NumPy`, como un archivo binario con extensión `'.npy'`. \n",
    "\n",
    "La información de este tipo de arreglos estructurados puede encontrarse en\n",
    "\n",
    "https://numpy.org/doc/stable/user/basics.rec.html\n",
    "\n",
    "El primer paso es leer el archivo, lo cual puede realizarse con la función [np.load()](https://numpy.org/doc/stable/reference/generated/numpy.load.html)"
   ]
  },
  {
   "cell_type": "code",
   "execution_count": 1,
   "metadata": {
    "executionInfo": {
     "elapsed": 490,
     "status": "ok",
     "timestamp": 1618169052495,
     "user": {
      "displayName": "Eduard Alexis Larranaga",
      "photoUrl": "https://lh3.googleusercontent.com/a-/AOh14GgCVABzEgj-rCdyxWa29RnA0kIYUCXAaVbnRYOEhQ=s64",
      "userId": "04402438389940282602"
     },
     "user_tz": 300
    },
    "id": "z2_uSWSg5VRk"
   },
   "outputs": [
    {
     "data": {
      "text/plain": [
       "array([(19.84132, 19.52656, 19.46946, 19.17955, 19.10763, b'QSO', 0.539301  , 6.543622e-05),\n",
       "       (19.86318, 18.66298, 17.84272, 17.38978, 17.14313, b'GALAXY', 0.1645703 , 1.186625e-05),\n",
       "       (19.97362, 18.31421, 17.47922, 17.0744 , 16.76174, b'GALAXY', 0.04190006, 2.183788e-05),\n",
       "       ...,\n",
       "       (19.82667, 18.10038, 17.16133, 16.5796 , 16.19755, b'GALAXY', 0.0784592 , 2.159406e-05),\n",
       "       (19.98672, 19.75385, 19.5713 , 19.27739, 19.25895, b'QSO', 1.567295  , 4.505933e-04),\n",
       "       (18.00024, 17.80957, 17.77302, 17.72663, 17.7264 , b'QSO', 0.4749449 , 6.203324e-05)],\n",
       "      dtype=[('u', '<f8'), ('g', '<f8'), ('r', '<f8'), ('i', '<f8'), ('z', '<f8'), ('spec_class', 'S6'), ('redshift', '<f8'), ('redshift_err', '<f8')])"
      ]
     },
     "execution_count": 1,
     "metadata": {},
     "output_type": "execute_result"
    }
   ],
   "source": [
    "import numpy as np\n",
    "\n",
    "data = np.load('sdss_galaxy_colors.npy')\n",
    "data"
   ]
  },
  {
   "cell_type": "markdown",
   "metadata": {
    "id": "C7pkVeizIyj5"
   },
   "source": [
    "En esta clase de estrucutra de datos, el atributo `.dtype` corresponde al nombre de las características. En este caso, se identifican las siguientes características:\n",
    "\n",
    "| dtype | Feature|\n",
    "|:-:|:-:|\n",
    "|`u` |u band filter|\n",
    "|`g` |g band filter|\n",
    "|`r` |r band filter|\n",
    "|`i` |i band filter|\n",
    "|`z` |z band filter|\n",
    "|`spec_class` |spectral class|\n",
    "|`redshift` |redshift|\n",
    "|`redshift_err` |redshift error|\n"
   ]
  },
  {
   "cell_type": "code",
   "execution_count": 2,
   "metadata": {
    "colab": {
     "base_uri": "https://localhost:8080/"
    },
    "executionInfo": {
     "elapsed": 401,
     "status": "ok",
     "timestamp": 1618169168563,
     "user": {
      "displayName": "Eduard Alexis Larranaga",
      "photoUrl": "https://lh3.googleusercontent.com/a-/AOh14GgCVABzEgj-rCdyxWa29RnA0kIYUCXAaVbnRYOEhQ=s64",
      "userId": "04402438389940282602"
     },
     "user_tz": 300
    },
    "id": "YViL7KzKZUOP",
    "outputId": "e67453e6-0d57-4fde-c732-18b4bd965988"
   },
   "outputs": [
    {
     "data": {
      "text/plain": [
       "dtype([('u', '<f8'), ('g', '<f8'), ('r', '<f8'), ('i', '<f8'), ('z', '<f8'), ('spec_class', 'S6'), ('redshift', '<f8'), ('redshift_err', '<f8')])"
      ]
     },
     "execution_count": 2,
     "metadata": {},
     "output_type": "execute_result"
    }
   ],
   "source": [
    "data.dtype"
   ]
  },
  {
   "cell_type": "markdown",
   "metadata": {
    "id": "hTkmu39tKbAb"
   },
   "source": [
    "Paa visualizar una muestra particular se procede como cualquier arreglo,\n",
    "\n"
   ]
  },
  {
   "cell_type": "code",
   "execution_count": 3,
   "metadata": {
    "colab": {
     "base_uri": "https://localhost:8080/"
    },
    "executionInfo": {
     "elapsed": 552,
     "status": "ok",
     "timestamp": 1618169172215,
     "user": {
      "displayName": "Eduard Alexis Larranaga",
      "photoUrl": "https://lh3.googleusercontent.com/a-/AOh14GgCVABzEgj-rCdyxWa29RnA0kIYUCXAaVbnRYOEhQ=s64",
      "userId": "04402438389940282602"
     },
     "user_tz": 300
    },
    "id": "9ADX6gPTKed5",
    "outputId": "c460d496-f683-4c9a-da23-36104007305a"
   },
   "outputs": [
    {
     "data": {
      "text/plain": [
       "(19.86318, 18.66298, 17.84272, 17.38978, 17.14313, b'GALAXY', 0.1645703, 1.186625e-05)"
      ]
     },
     "execution_count": 3,
     "metadata": {},
     "output_type": "execute_result"
    }
   ],
   "source": [
    "data[1]"
   ]
  },
  {
   "cell_type": "code",
   "execution_count": 4,
   "metadata": {
    "colab": {
     "base_uri": "https://localhost:8080/"
    },
    "executionInfo": {
     "elapsed": 717,
     "status": "ok",
     "timestamp": 1618169175171,
     "user": {
      "displayName": "Eduard Alexis Larranaga",
      "photoUrl": "https://lh3.googleusercontent.com/a-/AOh14GgCVABzEgj-rCdyxWa29RnA0kIYUCXAaVbnRYOEhQ=s64",
      "userId": "04402438389940282602"
     },
     "user_tz": 300
    },
    "id": "0s-hSuTvKh6h",
    "outputId": "873526a4-41f7-44af-b02f-8c3b8fafc3f3"
   },
   "outputs": [
    {
     "data": {
      "text/plain": [
       "array([(19.84132, 19.52656, 19.46946, 19.17955, 19.10763, b'QSO', 0.539301  , 6.543622e-05),\n",
       "       (19.86318, 18.66298, 17.84272, 17.38978, 17.14313, b'GALAXY', 0.1645703 , 1.186625e-05),\n",
       "       (19.97362, 18.31421, 17.47922, 17.0744 , 16.76174, b'GALAXY', 0.04190006, 2.183788e-05),\n",
       "       (19.05989, 17.49459, 16.59285, 16.09412, 15.70741, b'GALAXY', 0.04427702, 1.062687e-05)],\n",
       "      dtype=[('u', '<f8'), ('g', '<f8'), ('r', '<f8'), ('i', '<f8'), ('z', '<f8'), ('spec_class', 'S6'), ('redshift', '<f8'), ('redshift_err', '<f8')])"
      ]
     },
     "execution_count": 4,
     "metadata": {},
     "output_type": "execute_result"
    }
   ],
   "source": [
    "data[0:4]"
   ]
  },
  {
   "cell_type": "markdown",
   "metadata": {
    "id": "bbhQoywPKrqX"
   },
   "source": [
    "Para visualizar una característica particular se utiliza,"
   ]
  },
  {
   "cell_type": "code",
   "execution_count": 5,
   "metadata": {
    "colab": {
     "base_uri": "https://localhost:8080/"
    },
    "executionInfo": {
     "elapsed": 450,
     "status": "ok",
     "timestamp": 1618169181183,
     "user": {
      "displayName": "Eduard Alexis Larranaga",
      "photoUrl": "https://lh3.googleusercontent.com/a-/AOh14GgCVABzEgj-rCdyxWa29RnA0kIYUCXAaVbnRYOEhQ=s64",
      "userId": "04402438389940282602"
     },
     "user_tz": 300
    },
    "id": "RjLaP4_uKX5o",
    "outputId": "08495961-1398-43a6-8f32-62238a095f0d"
   },
   "outputs": [
    {
     "data": {
      "text/plain": [
       "array([19.84132, 19.86318, 19.97362, ..., 19.82667, 19.98672, 18.00024])"
      ]
     },
     "execution_count": 5,
     "metadata": {},
     "output_type": "execute_result"
    }
   ],
   "source": [
    "data['u'] # data for the u filter"
   ]
  },
  {
   "cell_type": "code",
   "execution_count": 6,
   "metadata": {
    "colab": {
     "base_uri": "https://localhost:8080/"
    },
    "executionInfo": {
     "elapsed": 443,
     "status": "ok",
     "timestamp": 1618169183409,
     "user": {
      "displayName": "Eduard Alexis Larranaga",
      "photoUrl": "https://lh3.googleusercontent.com/a-/AOh14GgCVABzEgj-rCdyxWa29RnA0kIYUCXAaVbnRYOEhQ=s64",
      "userId": "04402438389940282602"
     },
     "user_tz": 300
    },
    "id": "lQePgwUbKul3",
    "outputId": "8117d680-1ef4-4dad-a55d-0442489024d0"
   },
   "outputs": [
    {
     "data": {
      "text/plain": [
       "array([0.539301  , 0.1645703 , 0.04190006, ..., 0.0784592 , 1.567295  ,\n",
       "       0.4749449 ])"
      ]
     },
     "execution_count": 6,
     "metadata": {},
     "output_type": "execute_result"
    }
   ],
   "source": [
    "data['redshift'] # Redshift data"
   ]
  },
  {
   "cell_type": "markdown",
   "metadata": {
    "id": "ca9ZEeaNK8Vh"
   },
   "source": [
    "El número de muestras (i.e. galaxias) en la base de datos es"
   ]
  },
  {
   "cell_type": "code",
   "execution_count": 7,
   "metadata": {
    "colab": {
     "base_uri": "https://localhost:8080/"
    },
    "executionInfo": {
     "elapsed": 404,
     "status": "ok",
     "timestamp": 1618169186722,
     "user": {
      "displayName": "Eduard Alexis Larranaga",
      "photoUrl": "https://lh3.googleusercontent.com/a-/AOh14GgCVABzEgj-rCdyxWa29RnA0kIYUCXAaVbnRYOEhQ=s64",
      "userId": "04402438389940282602"
     },
     "user_tz": 300
    },
    "id": "8JHyXtPlK6Hs",
    "outputId": "d0a8bc4d-5e63-4226-9770-ad617c9851e3"
   },
   "outputs": [
    {
     "data": {
      "text/plain": [
       "50000"
      ]
     },
     "execution_count": 7,
     "metadata": {},
     "output_type": "execute_result"
    }
   ],
   "source": [
    "n = data.size\n",
    "n"
   ]
  },
  {
   "cell_type": "markdown",
   "metadata": {
    "id": "a_KhynSxkAyL"
   },
   "source": [
    "---\n",
    "### Correlación entre Corrimiento al Rojo y los Índices de Color \n",
    "\n",
    "El índice de color (o color astronómico) es la diferencia entre las magnitudes en dos filtros y son una aproximación del espectro del objeto observado. Los índices de color son útiles para la clasificación de estrellas y/o galaxias. Por ejemplo, un índice de color `'u - g'` negativo indica que el objeto es más brillante en las frecuencias del ultravioleta que en las frecuencias del verde.\n",
    "\n",
    "El objetivo final de esta práctica es encontrar un modelo que permita predecir cómo cambia la variable independiente (corrimiento al rojo) con una o más de las variables dependientes (índices de color). Una posibilidad para encontrar esta relación es utilizar una regresión (lineal o de otro tipo). Por ello, graficaremos estas cantidades para observar como se relacionan. \n",
    "\n",
    "**1. Gráfico del comportamiento del corrimiento al rojo contra cada uno de los índices de color (u-g, g-i, r-i and i-z).**"
   ]
  },
  {
   "cell_type": "code",
   "execution_count": 8,
   "metadata": {
    "colab": {
     "base_uri": "https://localhost:8080/",
     "height": 606
    },
    "executionInfo": {
     "elapsed": 1259,
     "status": "ok",
     "timestamp": 1618169641282,
     "user": {
      "displayName": "Eduard Alexis Larranaga",
      "photoUrl": "https://lh3.googleusercontent.com/a-/AOh14GgCVABzEgj-rCdyxWa29RnA0kIYUCXAaVbnRYOEhQ=s64",
      "userId": "04402438389940282602"
     },
     "user_tz": 300
    },
    "id": "sVW91-yXmO6s",
    "outputId": "20034470-3fb0-4b25-80ae-ee487846e2c4"
   },
   "outputs": [
    {
     "data": {
      "image/png": "[encoded data removed]",
      "text/plain": [
       "<Figure size 720x720 with 4 Axes>"
      ]
     },
     "metadata": {
      "needs_background": "light"
     },
     "output_type": "display_data"
    }
   ],
   "source": [
    "from matplotlib import pyplot as plt\n",
    "%matplotlib inline\n",
    "\n",
    "# Plot of the color indices u-g, g-i, r-i and i-z vs redshift\n",
    "fig, ax = plt.subplots(2,2, figsize=(10,10))\n",
    "ax[0,0].scatter(data['u']-data['g'], data['redshift'], color='black', marker='.')\n",
    "ax[0,1].scatter(data['g']-data['i'], data['redshift'], color='black', marker='.')\n",
    "ax[1,0].scatter(data['r']-data['i'], data['redshift'], color='black', marker='.')\n",
    "ax[1,1].scatter(data['i']-data['z'], data['redshift'], color='black', marker='.')\n",
    "ax[0,0].set_ylabel(r'redshift')\n",
    "ax[0,0].set_xlabel(r'u - g')\n",
    "ax[0,1].set_ylabel(r'redshift')\n",
    "ax[0,1].set_xlabel(r'g - i')\n",
    "ax[1,0].set_ylabel(r'redshift')\n",
    "ax[1,0].set_xlabel(r'r - i')\n",
    "ax[1,1].set_ylabel(r'redshift')\n",
    "ax[1,1].set_xlabel(r'i - z')\n",
    "plt.show()"
   ]
  },
  {
   "cell_type": "markdown",
   "metadata": {
    "id": "PI7izftsmpwz"
   },
   "source": [
    "De estos gráficos, es claro que no existe una relación linear simple entre el corrimiento al rojo y los índices de color.\n",
    "\n",
    "De esta forma, debemos explorar otro método como, por ejemplo, un modelo de regresión multivariado no-lineal. Sin emabrgo, utilizar un ajuste de mínimos cuadrados para determinar los mejors parámetros puede dar un resultado bastante complejo y no hay garantía de buenos resultados. Con el fin de visualizar esta posibilidad, graficaremos la información de dos índices de color junto con el corrimiento al rojo representado con un mapa de color. Esto se puede realizar utilizando la función  [matplotlib.pyplot.scatter()](https://matplotlib.org/stable/api/_as_gen/matplotlib.pyplot.scatter.html) con los argumentos`s`, `c` y `cmap`. \n",
    "\n",
    "**2. Gráfico de los índices de color `'u-g'` (en el eje-x) y `'r-i'` (en el eje-y) contra el corrimiento al rojo (representado por un gradiente de color)**"
   ]
  },
  {
   "cell_type": "code",
   "execution_count": 9,
   "metadata": {
    "colab": {
     "base_uri": "https://localhost:8080/",
     "height": 279
    },
    "executionInfo": {
     "elapsed": 2092,
     "status": "ok",
     "timestamp": 1618181260005,
     "user": {
      "displayName": "Eduard Alexis Larranaga",
      "photoUrl": "https://lh3.googleusercontent.com/a-/AOh14GgCVABzEgj-rCdyxWa29RnA0kIYUCXAaVbnRYOEhQ=s64",
      "userId": "04402438389940282602"
     },
     "user_tz": 300
    },
    "id": "Y-bD6Cm4n9ji",
    "outputId": "8c714dc0-3e97-4648-8d90-a47ac1293f13"
   },
   "outputs": [
    {
     "data": {
      "image/png": "[encoded data removed]",
      "text/plain": [
       "<Figure size 720x504 with 2 Axes>"
      ]
     },
     "metadata": {
      "needs_background": "light"
     },
     "output_type": "display_data"
    }
   ],
   "source": [
    "# Color gradient plot representign redshift\n",
    "# vs. the color indices u-g and r-i\n",
    "\n",
    "# Recommended colour map\n",
    "cmap1 = plt.get_cmap('YlOrRd')\n",
    "plt.figure(figsize=(10,7))\n",
    "plt.scatter(data['u']-data['g'],data['r']-data['i'], c=data['redshift'], cmap=cmap1)\n",
    "plt.ylabel(r'r - i')\n",
    "plt.xlabel(r'u - g')\n",
    "plt.colorbar()\n",
    "plt.show()"
   ]
  },
  {
   "cell_type": "markdown",
   "metadata": {
    "id": "-E6ZSJWen98Q"
   },
   "source": [
    "Esta figura muestra que existen algunas regiones, razonablemente bien definidas, donde el corrimiento al rojo tiene valores similares. De esta forma, si se realiza un mapa de contornos de los corrimientos al rojo en este diagrama de índices de color, sería posible estimar el corrimiento al rojo para nuevos puntos basandose en la combinación de sus índices de color. Sin embargo, debido a la dispersión de los puntos en el diagrama, se tendrían incertidumbres significativas para los estimados del corrimiento al rojo.\n"
   ]
  },
  {
   "cell_type": "markdown",
   "metadata": {
    "id": "geu4TFRioNgx"
   },
   "source": [
    "---\n",
    "### Árboles de Decisión \n",
    "\n",
    "Los **Árboles de Decisión** son una herramienta del machine learning que puede utilizarse tanto para tareas de **clasificación** como para tareas de **regresión**. Para este algoritmo se utiliza un conjunto de características de entrada que son mapeadas al correspondientes conjunto de datos objetivo. El entrenamiento del algoritmo se realiza a trvés de una serie de decisiones individuales en donde cda una de las dicisiones representa un nodo (o bifurcación/ramificación) del árbol. Cada decisión se realiza utilizando una sola de las características de los datos y el punto final de todas las ramas es un conjunto de los valores objetivo.\n",
    "\n",
    "Un ejmplo de este tipo de herramientas puede observarse en la siguiente figura, tomada del artículo\n",
    "\n",
    "E. C. Vasconcellos et al. *Decision Tree Clasifiers for Star/Galaxy separation*. AJ 141, 189 (2011).\n",
    "\n",
    "En esta figura se muestra un árbol de decisión en el cual los valores de algunas propiedades físicas son usadas para crear los nodos.\n",
    "\n",
    "\n",
    "<center>\n",
    "<img src=\"https://cdn.iopscience.com/images/1538-3881/141/6/189/Full/aj385906f1_lr.jpg\">\n",
    "</center>\n",
    "\n",
    "Las decisiones en cada rama se determinan a partir de los datos de entrenamiento y por el algoritmo de los árboles de decisión. En la práctica, cada algoritmo particular emplea una **métrica** para encontrar la decisión que dividirá los datos de forma más efectiva.\n",
    "\n",
    "\n",
    "---\n",
    "\n",
    "Ahora utilizaremos los índices de color fotométricos como los datos de entrada y los objetivos (datos de salida) serán los corrimientos al rojo. El entrenamiento del algoritmo deberá dar como resultado un árbol similar al que se muestra en la siguiente figura:\n",
    "\n",
    "<center>\n",
    "<img src=\"https://groklearning-cdn.com/modules/5PUcnT5fqRn5wTUXw7kg2B/decisiontree_1.png\" width=450>\n",
    "</center>\n",
    "\n",
    "Nótese que cada nodo involucra sólamente uno de los índices de color. Al seguir los posibles caminos a lo largo del árbol, se llega a un valor objetivo, correspondiente al corrimiento al rojo particular del objeto.\n",
    "\n"
   ]
  },
  {
   "cell_type": "markdown",
   "metadata": {
    "id": "675UL8zdLlbc"
   },
   "source": [
    "### Preparación de los Conjuntos de Características y de Objetivo\n",
    "\n",
    "Para entrenar el algoritmo de machine learning debemos escribir la información de entrada adecuadamente. Primero, los indices de color 'u-g', 'g-i', 'r-i' e 'i-z' se reunirán enn un arreglo llamada `'features'`. Luego, los corrimientos al rojo se localizarán en el arreglo llamado `'targets'`."
   ]
  },
  {
   "cell_type": "markdown",
   "metadata": {
    "id": "VB2oYWYHMyWA"
   },
   "source": [
    "**1. Definición de las variables 'features' (indices de color) y 'targets' (corrimientos al rojo)**"
   ]
  },
  {
   "cell_type": "code",
   "execution_count": 10,
   "metadata": {
    "colab": {
     "base_uri": "https://localhost:8080/"
    },
    "executionInfo": {
     "elapsed": 427,
     "status": "ok",
     "timestamp": 1618182212787,
     "user": {
      "displayName": "Eduard Alexis Larranaga",
      "photoUrl": "https://lh3.googleusercontent.com/a-/AOh14GgCVABzEgj-rCdyxWa29RnA0kIYUCXAaVbnRYOEhQ=s64",
      "userId": "04402438389940282602"
     },
     "user_tz": 300
    },
    "id": "Q53oIok9eCgL",
    "outputId": "b0d9f150-9716-4206-af7f-ec28eb855080"
   },
   "outputs": [
    {
     "data": {
      "text/plain": [
       "(4, 50000)"
      ]
     },
     "execution_count": 10,
     "metadata": {},
     "output_type": "execute_result"
    }
   ],
   "source": [
    "# Function returning the 4 color indices and the redshifts\n",
    "\n",
    "features = np.asarray([data['u']-data['g'],\\\n",
    "                       data['g']-data['i'],\\\n",
    "                       data['r']-data['i'],\\\n",
    "                       data['i']-data['z'] ])\n",
    "\n",
    "targets = np.asarray(data['redshift'])\n",
    "features.shape"
   ]
  },
  {
   "cell_type": "markdown",
   "metadata": {},
   "source": [
    "La forma del conjunto de características debe cambiarse para que los indices de color queden ubicados en las columnas."
   ]
  },
  {
   "cell_type": "code",
   "execution_count": 11,
   "metadata": {
    "colab": {
     "base_uri": "https://localhost:8080/"
    },
    "executionInfo": {
     "elapsed": 434,
     "status": "ok",
     "timestamp": 1618182259888,
     "user": {
      "displayName": "Eduard Alexis Larranaga",
      "photoUrl": "https://lh3.googleusercontent.com/a-/AOh14GgCVABzEgj-rCdyxWa29RnA0kIYUCXAaVbnRYOEhQ=s64",
      "userId": "04402438389940282602"
     },
     "user_tz": 300
    },
    "id": "VEeMUhjoK1XJ",
    "outputId": "4894703f-57f8-4488-f655-4721f232849e"
   },
   "outputs": [
    {
     "data": {
      "text/plain": [
       "(50000, 4)"
      ]
     },
     "execution_count": 11,
     "metadata": {},
     "output_type": "execute_result"
    }
   ],
   "source": [
    "# Change the shape of the array. Features in the columns, samples in the rows.\n",
    "features = features.T\n",
    "features.shape"
   ]
  },
  {
   "cell_type": "code",
   "execution_count": 12,
   "metadata": {},
   "outputs": [
    {
     "data": {
      "text/plain": [
       "(50000,)"
      ]
     },
     "execution_count": 12,
     "metadata": {},
     "output_type": "execute_result"
    }
   ],
   "source": [
    "targets.shape"
   ]
  },
  {
   "cell_type": "markdown",
   "metadata": {
    "id": "FNehsBLLFWUH"
   },
   "source": [
    "### Árboles de Decisión en `SciKit Learn`\n",
    "\n",
    "Dentro del paquete `SciKit Learn` encontraremos la función [sklearn.tree.DecisionTreeRegressor](https://scikit-learn.org/stable/auto_examples/tree/plot_tree_regression.html).\n",
    "\n",
    "De forma similar al modelo lineal que se implementó en la clase anterior, el árbol de decisión tomará los datos de entrenamiento ('features' y 'targets') para entrenar o construir el modelo que luego podrá ser aplicado a otros datos para predecir el resultado. Para iniciar el árbol de decisión, creamos una variable que guardará el modelo,\n"
   ]
  },
  {
   "cell_type": "code",
   "execution_count": 14,
   "metadata": {
    "executionInfo": {
     "elapsed": 1412,
     "status": "ok",
     "timestamp": 1618182060492,
     "user": {
      "displayName": "Eduard Alexis Larranaga",
      "photoUrl": "https://lh3.googleusercontent.com/a-/AOh14GgCVABzEgj-rCdyxWa29RnA0kIYUCXAaVbnRYOEhQ=s64",
      "userId": "04402438389940282602"
     },
     "user_tz": 300
    },
    "id": "mG9255X6fcdH"
   },
   "outputs": [],
   "source": [
    "from sklearn.tree import DecisionTreeRegressor\n",
    "\n",
    "dec_tree = DecisionTreeRegressor()"
   ]
  },
  {
   "cell_type": "code",
   "execution_count": 15,
   "metadata": {},
   "outputs": [
    {
     "data": {
      "text/plain": [
       "DecisionTreeRegressor()"
      ]
     },
     "execution_count": 15,
     "metadata": {},
     "output_type": "execute_result"
    }
   ],
   "source": [
    "dec_tree"
   ]
  },
  {
   "cell_type": "markdown",
   "metadata": {
    "id": "jXuqBDnbfS31"
   },
   "source": [
    "Luego entrenamos el algoritmo con el método `.fit()` y los arreglos 'features' y 'targets',"
   ]
  },
  {
   "cell_type": "code",
   "execution_count": 16,
   "metadata": {
    "colab": {
     "base_uri": "https://localhost:8080/"
    },
    "executionInfo": {
     "elapsed": 1113,
     "status": "ok",
     "timestamp": 1618182267408,
     "user": {
      "displayName": "Eduard Alexis Larranaga",
      "photoUrl": "https://lh3.googleusercontent.com/a-/AOh14GgCVABzEgj-rCdyxWa29RnA0kIYUCXAaVbnRYOEhQ=s64",
      "userId": "04402438389940282602"
     },
     "user_tz": 300
    },
    "id": "DcJwQ_8bgmdW",
    "outputId": "4f316a50-c59b-477d-c782-c78cde67cadd"
   },
   "outputs": [
    {
     "data": {
      "text/plain": [
       "DecisionTreeRegressor()"
      ]
     },
     "execution_count": 16,
     "metadata": {},
     "output_type": "execute_result"
    }
   ],
   "source": [
    "dec_tree.fit(features, targets)"
   ]
  },
  {
   "cell_type": "markdown",
   "metadata": {
    "id": "C4-CuGQ2YDt6"
   },
   "source": [
    "Una vez que el árbol de decisión ha sido creado, utilizaremos el método `.predict()` para predecir los valores de corrimiento al rojo de nuevos objetos. Por ejemplo, podemos utilizar el mismo conjunto de entrenamiento 'features' para predecir sus valores de corrimiento que pueden ser comparados con los datos del arreglo 'targets'."
   ]
  },
  {
   "cell_type": "code",
   "execution_count": 17,
   "metadata": {
    "executionInfo": {
     "elapsed": 386,
     "status": "ok",
     "timestamp": 1618182286441,
     "user": {
      "displayName": "Eduard Alexis Larranaga",
      "photoUrl": "https://lh3.googleusercontent.com/a-/AOh14GgCVABzEgj-rCdyxWa29RnA0kIYUCXAaVbnRYOEhQ=s64",
      "userId": "04402438389940282602"
     },
     "user_tz": 300
    },
    "id": "hV_1GWdc6GL6"
   },
   "outputs": [],
   "source": [
    "predictions = dec_tree.predict(features)"
   ]
  },
  {
   "cell_type": "code",
   "execution_count": 18,
   "metadata": {},
   "outputs": [
    {
     "data": {
      "text/plain": [
       "array([0.539301  , 0.1645703 , 0.04190006, ..., 0.0784592 , 1.567295  ,\n",
       "       0.4749449 ])"
      ]
     },
     "execution_count": 18,
     "metadata": {},
     "output_type": "execute_result"
    }
   ],
   "source": [
    "predictions"
   ]
  },
  {
   "cell_type": "markdown",
   "metadata": {
    "id": "OniL8coCYm9-"
   },
   "source": [
    "#### Evaluación de las predicciones\n",
    "\n",
    "Para evaluar los resultados del árbol de decisión, calcularemos la diferencia entre los datos predichos y los datos del arreglo 'targets'. Estas diferencias comunmente se denominan **residuos** y para caracterizar el resultado utilizaremos la mediana de estos valores,\n",
    "\n",
    "\\begin{equation}\n",
    "\\text{eval_dec_tree} = \\text{median}\\left\\lbrace \\left| \\text{predictions}_i - \\text{targets}_i \\right|\\right\\rbrace\n",
    "\\end{equation}\n",
    "\n",
    "**2. Implementación de la función que calcula la mediana de las diferencias entre predicción y objetivos (residuos). Nótese que se utiliza el valor absoluto de estas diferencias.**"
   ]
  },
  {
   "cell_type": "code",
   "execution_count": 19,
   "metadata": {
    "colab": {
     "base_uri": "https://localhost:8080/"
    },
    "executionInfo": {
     "elapsed": 410,
     "status": "ok",
     "timestamp": 1618185357845,
     "user": {
      "displayName": "Eduard Alexis Larranaga",
      "photoUrl": "https://lh3.googleusercontent.com/a-/AOh14GgCVABzEgj-rCdyxWa29RnA0kIYUCXAaVbnRYOEhQ=s64",
      "userId": "04402438389940282602"
     },
     "user_tz": 300
    },
    "id": "SDLt8C-IZJUG",
    "outputId": "a6d9f30a-d1b1-47eb-c0e7-576c5d866814"
   },
   "outputs": [
    {
     "data": {
      "text/plain": [
       "0.0"
      ]
     },
     "execution_count": 19,
     "metadata": {},
     "output_type": "execute_result"
    }
   ],
   "source": [
    "eval_dec_tree = np.median(np.abs(predictions - targets))\n",
    "eval_dec_tree"
   ]
  },
  {
   "cell_type": "markdown",
   "metadata": {},
   "source": [
    "Este resultado indica que el árbol de decisión funciona perfectamente con los datos de entrenamiento. Sin embargo, para poder medir adecuadamente un árbol de decisión es necesario aplicarlo a un conjunto de datos diferente al del entrenamiento."
   ]
  },
  {
   "cell_type": "markdown",
   "metadata": {
    "id": "DGdRXf17ZwKD"
   },
   "source": [
    "### Implementando conjuntos de entrenamiento y prueba\n",
    "\n",
    "Como se dijo antes, es necesario implementar conjuntos de entrenamineto y prueba diferentes entre si para lograr una medición adecuada de la precisión del árbol de decisión creado. \n",
    "\n",
    "\n",
    "**3. División de los arreglos 'features' y 'targets' en subconjuntos de entrenamiento y prueba (50:50)**"
   ]
  },
  {
   "cell_type": "code",
   "execution_count": 20,
   "metadata": {
    "executionInfo": {
     "elapsed": 413,
     "status": "ok",
     "timestamp": 1618185029843,
     "user": {
      "displayName": "Eduard Alexis Larranaga",
      "photoUrl": "https://lh3.googleusercontent.com/a-/AOh14GgCVABzEgj-rCdyxWa29RnA0kIYUCXAaVbnRYOEhQ=s64",
      "userId": "04402438389940282602"
     },
     "user_tz": 300
    },
    "id": "_mweFYVGVsqu"
   },
   "outputs": [],
   "source": [
    "from sklearn.model_selection import train_test_split\n",
    "\n",
    "train_features, test_features, train_targets, test_targets = train_test_split(features, targets, random_state=60, test_size=0.5)"
   ]
  },
  {
   "cell_type": "code",
   "execution_count": 22,
   "metadata": {
    "colab": {
     "base_uri": "https://localhost:8080/"
    },
    "executionInfo": {
     "elapsed": 462,
     "status": "ok",
     "timestamp": 1618185056834,
     "user": {
      "displayName": "Eduard Alexis Larranaga",
      "photoUrl": "https://lh3.googleusercontent.com/a-/AOh14GgCVABzEgj-rCdyxWa29RnA0kIYUCXAaVbnRYOEhQ=s64",
      "userId": "04402438389940282602"
     },
     "user_tz": 300
    },
    "id": "P1n7Msd_Mzkf",
    "outputId": "b236953c-3992-4409-a846-32c0d7da5004"
   },
   "outputs": [
    {
     "data": {
      "text/plain": [
       "(25000, 4)"
      ]
     },
     "execution_count": 22,
     "metadata": {},
     "output_type": "execute_result"
    }
   ],
   "source": [
    "train_features.shape"
   ]
  },
  {
   "cell_type": "code",
   "execution_count": 23,
   "metadata": {
    "colab": {
     "base_uri": "https://localhost:8080/"
    },
    "executionInfo": {
     "elapsed": 374,
     "status": "ok",
     "timestamp": 1618185044527,
     "user": {
      "displayName": "Eduard Alexis Larranaga",
      "photoUrl": "https://lh3.googleusercontent.com/a-/AOh14GgCVABzEgj-rCdyxWa29RnA0kIYUCXAaVbnRYOEhQ=s64",
      "userId": "04402438389940282602"
     },
     "user_tz": 300
    },
    "id": "aonfQYsnM_eM",
    "outputId": "af1d7ebe-b854-4334-c862-d58da280c2a1"
   },
   "outputs": [
    {
     "data": {
      "text/plain": [
       "(25000, 4)"
      ]
     },
     "execution_count": 23,
     "metadata": {},
     "output_type": "execute_result"
    }
   ],
   "source": [
    "test_features.shape"
   ]
  },
  {
   "cell_type": "markdown",
   "metadata": {
    "id": "9rugDxAOuu66"
   },
   "source": [
    "**4. Uso de los conjuntos de entrenamiento para crear el árbol de decisión.**"
   ]
  },
  {
   "cell_type": "code",
   "execution_count": 24,
   "metadata": {
    "colab": {
     "base_uri": "https://localhost:8080/"
    },
    "executionInfo": {
     "elapsed": 590,
     "status": "ok",
     "timestamp": 1618185140991,
     "user": {
      "displayName": "Eduard Alexis Larranaga",
      "photoUrl": "https://lh3.googleusercontent.com/a-/AOh14GgCVABzEgj-rCdyxWa29RnA0kIYUCXAaVbnRYOEhQ=s64",
      "userId": "04402438389940282602"
     },
     "user_tz": 300
    },
    "id": "ldSj03_wWOUm",
    "outputId": "972a22a4-d944-4b0e-9b68-bb5ba5c0016a"
   },
   "outputs": [
    {
     "data": {
      "text/plain": [
       "DecisionTreeRegressor()"
      ]
     },
     "execution_count": 24,
     "metadata": {},
     "output_type": "execute_result"
    }
   ],
   "source": [
    "d_tree = DecisionTreeRegressor()\n",
    "d_tree.fit(train_features, train_targets)"
   ]
  },
  {
   "cell_type": "markdown",
   "metadata": {
    "id": "9qGifW6ju_SO"
   },
   "source": [
    "**5. Uso de los subconjuntos de prueba para predecir el corrimiento al rojo y evaluar el modelo.**"
   ]
  },
  {
   "cell_type": "code",
   "execution_count": 25,
   "metadata": {
    "colab": {
     "base_uri": "https://localhost:8080/"
    },
    "executionInfo": {
     "elapsed": 394,
     "status": "ok",
     "timestamp": 1618185369549,
     "user": {
      "displayName": "Eduard Alexis Larranaga",
      "photoUrl": "https://lh3.googleusercontent.com/a-/AOh14GgCVABzEgj-rCdyxWa29RnA0kIYUCXAaVbnRYOEhQ=s64",
      "userId": "04402438389940282602"
     },
     "user_tz": 300
    },
    "id": "KWH4L5S1Wgq9",
    "outputId": "d08cf94d-214c-4210-b5b2-58674cbea0ce"
   },
   "outputs": [
    {
     "data": {
      "text/plain": [
       "0.021946535"
      ]
     },
     "execution_count": 25,
     "metadata": {},
     "output_type": "execute_result"
    }
   ],
   "source": [
    "predictions_d_tree = d_tree.predict(test_features)\n",
    "eval_d_tree = np.median(np.abs(predictions_d_tree - test_targets))\n",
    "eval_d_tree"
   ]
  },
  {
   "cell_type": "markdown",
   "metadata": {
    "id": "hzh0OyRlPBtQ"
   },
   "source": [
    "---\n",
    "\n",
    "#### Interpretación de la Evaluación del Modelo\n",
    "\n",
    "El resultado obtenido de $\\approx 0.02$ en la mediana de los residuos indica que la mitad de las muestras tendrán un error en la predicción $< 0.02$.\n",
    "\n",
    "Al tomar como medida estadística de la precisión la mediana de los residuos  se obtiene una buena representación de los errores, especialmente cuando la distribución de estos esta sesgada. "
   ]
  },
  {
   "cell_type": "code",
   "execution_count": 26,
   "metadata": {},
   "outputs": [
    {
     "ename": "NameError",
     "evalue": "name 'X' is not defined",
     "output_type": "error",
     "traceback": [
      "\u001b[0;31m---------------------------------------------------------------------------\u001b[0m",
      "\u001b[0;31mNameError\u001b[0m                                 Traceback (most recent call last)",
      "\u001b[0;32m/var/folders/7k/yfxytyyj2v9df2f4k4dwmjcm0000gn/T/ipykernel_1843/414629187.py\u001b[0m in \u001b[0;36m<module>\u001b[0;34m\u001b[0m\n\u001b[1;32m      1\u001b[0m \u001b[0mplt\u001b[0m\u001b[0;34m.\u001b[0m\u001b[0mfigure\u001b[0m\u001b[0;34m(\u001b[0m\u001b[0;34m)\u001b[0m\u001b[0;34m\u001b[0m\u001b[0;34m\u001b[0m\u001b[0m\n\u001b[0;32m----> 2\u001b[0;31m \u001b[0mplt\u001b[0m\u001b[0;34m.\u001b[0m\u001b[0mscatter\u001b[0m\u001b[0;34m(\u001b[0m\u001b[0mX\u001b[0m\u001b[0;34m,\u001b[0m \u001b[0my\u001b[0m\u001b[0;34m,\u001b[0m \u001b[0ms\u001b[0m\u001b[0;34m=\u001b[0m\u001b[0;36m20\u001b[0m\u001b[0;34m,\u001b[0m \u001b[0medgecolor\u001b[0m\u001b[0;34m=\u001b[0m\u001b[0;34m\"black\"\u001b[0m\u001b[0;34m,\u001b[0m \u001b[0mc\u001b[0m\u001b[0;34m=\u001b[0m\u001b[0;34m\"darkorange\"\u001b[0m\u001b[0;34m,\u001b[0m \u001b[0mlabel\u001b[0m\u001b[0;34m=\u001b[0m\u001b[0;34m\"data\"\u001b[0m\u001b[0;34m)\u001b[0m\u001b[0;34m\u001b[0m\u001b[0;34m\u001b[0m\u001b[0m\n\u001b[0m\u001b[1;32m      3\u001b[0m \u001b[0mplt\u001b[0m\u001b[0;34m.\u001b[0m\u001b[0mplot\u001b[0m\u001b[0;34m(\u001b[0m\u001b[0mX_test\u001b[0m\u001b[0;34m,\u001b[0m \u001b[0my_1\u001b[0m\u001b[0;34m,\u001b[0m \u001b[0mcolor\u001b[0m\u001b[0;34m=\u001b[0m\u001b[0;34m\"cornflowerblue\"\u001b[0m\u001b[0;34m,\u001b[0m \u001b[0mlabel\u001b[0m\u001b[0;34m=\u001b[0m\u001b[0;34m\"max_depth=2\"\u001b[0m\u001b[0;34m,\u001b[0m \u001b[0mlinewidth\u001b[0m\u001b[0;34m=\u001b[0m\u001b[0;36m2\u001b[0m\u001b[0;34m)\u001b[0m\u001b[0;34m\u001b[0m\u001b[0;34m\u001b[0m\u001b[0m\n\u001b[1;32m      4\u001b[0m \u001b[0mplt\u001b[0m\u001b[0;34m.\u001b[0m\u001b[0mplot\u001b[0m\u001b[0;34m(\u001b[0m\u001b[0mX_test\u001b[0m\u001b[0;34m,\u001b[0m \u001b[0my_2\u001b[0m\u001b[0;34m,\u001b[0m \u001b[0mcolor\u001b[0m\u001b[0;34m=\u001b[0m\u001b[0;34m\"yellowgreen\"\u001b[0m\u001b[0;34m,\u001b[0m \u001b[0mlabel\u001b[0m\u001b[0;34m=\u001b[0m\u001b[0;34m\"max_depth=5\"\u001b[0m\u001b[0;34m,\u001b[0m \u001b[0mlinewidth\u001b[0m\u001b[0;34m=\u001b[0m\u001b[0;36m2\u001b[0m\u001b[0;34m)\u001b[0m\u001b[0;34m\u001b[0m\u001b[0;34m\u001b[0m\u001b[0m\n\u001b[1;32m      5\u001b[0m \u001b[0mplt\u001b[0m\u001b[0;34m.\u001b[0m\u001b[0mxlabel\u001b[0m\u001b[0;34m(\u001b[0m\u001b[0;34m\"data\"\u001b[0m\u001b[0;34m)\u001b[0m\u001b[0;34m\u001b[0m\u001b[0;34m\u001b[0m\u001b[0m\n",
      "\u001b[0;31mNameError\u001b[0m: name 'X' is not defined"
     ]
    },
    {
     "data": {
      "text/plain": [
       "<Figure size 432x288 with 0 Axes>"
      ]
     },
     "metadata": {},
     "output_type": "display_data"
    }
   ],
   "source": [
    "plt.figure()\n",
    "plt.scatter(X, y, s=20, edgecolor=\"black\", c=\"darkorange\", label=\"data\")\n",
    "plt.plot(X_test, y_1, color=\"cornflowerblue\", label=\"max_depth=2\", linewidth=2)\n",
    "plt.plot(X_test, y_2, color=\"yellowgreen\", label=\"max_depth=5\", linewidth=2)\n",
    "plt.xlabel(\"data\")\n",
    "plt.ylabel(\"target\")\n",
    "plt.title(\"Decision Tree Regression\")\n",
    "plt.legend()\n",
    "plt.show()"
   ]
  },
  {
   "cell_type": "code",
   "execution_count": null,
   "metadata": {},
   "outputs": [],
   "source": []
  }
 ],
 "metadata": {
  "colab": {
   "collapsed_sections": [],
   "name": "01. Decision Trees.ipynb",
   "provenance": []
  },
  "kernelspec": {
   "display_name": "Python 3 (ipykernel)",
   "language": "python",
   "name": "python3"
  },
  "language_info": {
   "codemirror_mode": {
    "name": "ipython",
    "version": 3
   },
   "file_extension": ".py",
   "mimetype": "text/x-python",
   "name": "python",
   "nbconvert_exporter": "python",
   "pygments_lexer": "ipython3",
   "version": "3.9.7"
  }
 },
 "nbformat": 4,
 "nbformat_minor": 1
}
